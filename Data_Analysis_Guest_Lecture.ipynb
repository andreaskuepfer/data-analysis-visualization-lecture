{
  "nbformat": 4,
  "nbformat_minor": 0,
  "metadata": {
    "colab": {
      "provenance": [],
      "authorship_tag": "ABX9TyMqiZ4muPJjvLTFMtMxHfy6",
      "include_colab_link": true
    },
    "kernelspec": {
      "name": "ir",
      "display_name": "R"
    },
    "language_info": {
      "name": "R"
    }
  },
  "cells": [
    {
      "cell_type": "markdown",
      "metadata": {
        "id": "view-in-github",
        "colab_type": "text"
      },
      "source": [
        "<a href=\"https://colab.research.google.com/github/andreaskuepfer/data-analysis-visualization-lecture/blob/main/Data_Analysis_Guest_Lecture.ipynb\" target=\"_parent\"><img src=\"https://colab.research.google.com/assets/colab-badge.svg\" alt=\"Open In Colab\"/></a>"
      ]
    },
    {
      "cell_type": "markdown",
      "source": [
        "## Data Analysis: From Data Crawling to Visualization\n",
        "### An Introduction to APIs for Social Scientists and How To (not) Display Data\n",
        "\n",
        "##### **Data Analysis Guest Lecture**\n",
        "##### **National University of Kyiv-Mohyla Academy**\n",
        "##### **March 15, 2023**\n",
        "\n",
        "##### *Andreas Küpfer (Technical University of Darmstadt)*"
      ],
      "metadata": {
        "id": "T6FHR1zA4UGL"
      }
    },
    {
      "cell_type": "markdown",
      "source": [
        "Today, we want to work with the tweets of the President of Ukraine: Volodymyr Zelenskyy.\n",
        "\n",
        "This hands-on notebook is divided into four sections:\n",
        "\n",
        "1. First, we will load our dataset into R and do some data wrangling before we add a sentiment score to each tweet.\n",
        "2. Second, we are going to visalize the preprocessed data in R.\n",
        "3. Third, we discuss further steps that could be applied to improve our analysis.\n",
        "4. Last but not least you can find some resources if you want to learn R now to analyze your own data."
      ],
      "metadata": {
        "id": "jWNAXVv94rwf"
      }
    },
    {
      "cell_type": "markdown",
      "source": [
        "## But whait... How do I actually work in such a notebook and why do we need this?"
      ],
      "metadata": {
        "id": "_pqtijMN7H1r"
      }
    },
    {
      "cell_type": "markdown",
      "source": [],
      "metadata": {
        "id": "5ABjMehz7Ovl"
      }
    },
    {
      "cell_type": "code",
      "source": [
        "# I'm a comment and I'm always ignored by R\n",
        "variable <- 1 + 2\n",
        "print(variable)"
      ],
      "metadata": {
        "colab": {
          "base_uri": "https://localhost:8080/"
        },
        "id": "jkFzk-os7SKm",
        "outputId": "798f8510-0fda-4db4-d770-b6cd2427e283"
      },
      "execution_count": 1,
      "outputs": [
        {
          "output_type": "stream",
          "name": "stdout",
          "text": [
            "[1] 3\n"
          ]
        }
      ]
    },
    {
      "cell_type": "markdown",
      "source": [
        "## Loading Packages (additional functionalities) in R"
      ],
      "metadata": {
        "id": "NlB7fG_r3T5a"
      }
    },
    {
      "cell_type": "code",
      "execution_count": null,
      "metadata": {
        "id": "rpLDa7bW2T2o"
      },
      "outputs": [],
      "source": [
        "# install.packages(\"pacman\")\n",
        "\n",
        "pacman::p_load(tidyverse,\n",
        "               emoji,\n",
        "               tidytext,\n",
        "               textdata)"
      ]
    },
    {
      "cell_type": "markdown",
      "source": [
        "## Part 1: Loading and organizing the Tweets"
      ],
      "metadata": {
        "id": "bsO3BU_M3KNi"
      }
    },
    {
      "cell_type": "code",
      "source": [
        "tweets <- readRDS(\"tweets.Rds\")\n",
        "\n",
        "tweets_en <- tweets %>%\n",
        "  select(created_at, text, lang) %>%\n",
        "  filter(lang == \"en\")"
      ],
      "metadata": {
        "id": "u2PyeWpW2ipx"
      },
      "execution_count": null,
      "outputs": []
    },
    {
      "cell_type": "code",
      "source": [
        "tweets_en_emoji <- tweets_en %>% # Gefilterten Datensatz (Sprache Englisch) auswählen\n",
        "  dplyr::mutate(emoji = emoji::emoji_extract_all(text)) %>% # mit Hilfe von emoji::emoji_extract_all() alle emojis extrahieren\n",
        "  tidyr::unnest(emoji) %>% # unnest generiert eine Zeile pro gefundenem emoji (z.B. 3 Zeilen, wenn in einem tweet 3 emojis gefunden wurden)\n",
        "  dplyr::mutate(emojiname = purrr::map(emoji, ~names(which(emoji::emoji_name == .)))) %>% # ersetze emoji mit alternativem Text (z.B. Ukraininsche Flagge wird zu \"Ukraine\")\n",
        "  dplyr::filter(stringr::str_detect(stringr::str_c(emojiname), \".*flag.*\")) %>% # entferne alle Zeilen bzw. gefundenen Emojis, welche keine Flagge sind\n",
        "  dplyr::mutate(emojiname = stringr::str_extract(emojiname, regex(\"flag_.*[^\\\")]\")), # extrahiere einheitliches Länderkürzel aus alternativem Text\n",
        "                emojiname = stringr::str_remove(emojiname, \"flag_\")) # entferne \"flag_\" prefix von Text"
      ],
      "metadata": {
        "id": "hvDrxJ-a2n5s"
      },
      "execution_count": null,
      "outputs": []
    },
    {
      "cell_type": "code",
      "source": [
        "View(tweets_en_emoji)"
      ],
      "metadata": {
        "id": "aV7qrjOZ2olt"
      },
      "execution_count": null,
      "outputs": []
    },
    {
      "cell_type": "code",
      "source": [
        "afinn_dict <- tidytext::get_sentiments(lexicon = \"afinn\")\n",
        "\n",
        "afinn_dict %>%\n",
        "  dplyr::group_by(value) %>%\n",
        "  dplyr::slice_sample(n=1)"
      ],
      "metadata": {
        "id": "W0alW8e32tZh"
      },
      "execution_count": null,
      "outputs": []
    },
    {
      "cell_type": "code",
      "source": [
        "tweets_en_emoji_sentiment <- tweets_en_emoji %>%\n",
        "  dplyr::select(emojiname, text)\n",
        "\n",
        "head(tweets_en_emoji_sentiment)"
      ],
      "metadata": {
        "id": "fgBkn6aW2zHJ"
      },
      "execution_count": null,
      "outputs": []
    },
    {
      "cell_type": "code",
      "source": [
        "tweets_en_emoji_sentiment <- tweets_en_emoji %>%\n",
        "  dplyr::select(emojiname, text) %>%\n",
        "  tidytext::unnest_tokens(output = word, input = text)\n",
        "\n",
        "head(tweets_en_emoji_sentiment)"
      ],
      "metadata": {
        "id": "uTKEf1rv24vT"
      },
      "execution_count": null,
      "outputs": []
    },
    {
      "cell_type": "code",
      "source": [
        "tweets_en_emoji_sentiment <- tweets_en_emoji %>%\n",
        "  dplyr::select(emojiname, text) %>%\n",
        "  tidytext::unnest_tokens(output = \"word\", input = text) %>%\n",
        "  dplyr::right_join(y = afinn_dict, by = \"word\") %>%\n",
        "  dplyr::filter(!is.na(emojiname))\n",
        "\n",
        "head(tweets_en_emoji_sentiment)"
      ],
      "metadata": {
        "id": "gDDW3v7-27fV"
      },
      "execution_count": null,
      "outputs": []
    },
    {
      "cell_type": "code",
      "source": [
        "tweets_en_emoji_sentiment <- tweets_en_emoji %>%\n",
        "  dplyr::select(emojiname, text) %>%\n",
        "  tidytext::unnest_tokens(output = \"word\", input = text) %>%\n",
        "  dplyr::right_join(y = afinn_dict, by = \"word\") %>%\n",
        "  dplyr::filter(!is.na(emojiname)) %>%\n",
        "  dplyr::count(emojiname, value, name = \"count\")\n",
        "\n",
        "head(tweets_en_emoji_sentiment)"
      ],
      "metadata": {
        "id": "N9sYsjf-27zd"
      },
      "execution_count": null,
      "outputs": []
    },
    {
      "cell_type": "code",
      "source": [
        "tweets_en_emoji_sentiment <- tweets_en_emoji %>%\n",
        "  dplyr::select(emojiname, text) %>%\n",
        "  tidytext::unnest_tokens(output = \"word\", input = text) %>%\n",
        "  dplyr::right_join(y = afinn_dict, by = \"word\") %>%\n",
        "  dplyr::filter(!is.na(emojiname)) %>%\n",
        "  dplyr::count(emojiname, value, name = \"count\") %>%\n",
        "  dplyr::group_by(emojiname) %>% # (3)\n",
        "  dplyr::mutate(n_normalized = count/sum(count) * 100)\n",
        "\n",
        "head(tweets_en_emoji_sentiment)"
      ],
      "metadata": {
        "id": "NnWrhDSB273z"
      },
      "execution_count": null,
      "outputs": []
    },
    {
      "cell_type": "markdown",
      "source": [
        "## Part 2: Visualize the results"
      ],
      "metadata": {
        "id": "CYUHh2es3Ew2"
      }
    },
    {
      "cell_type": "code",
      "source": [
        "country_list <- c(\"Ukraine\", \"Germany\", \"Poland\", \"European_Union\", \"Belarus\", \"Russia\", \"United_States\", \"United_Kingdom\", \"Mozambique\", \"Canada\")"
      ],
      "metadata": {
        "id": "3f8JaLxZ3EDR"
      },
      "execution_count": null,
      "outputs": []
    },
    {
      "cell_type": "code",
      "source": [
        "label_df <- tweets_en_emoji_sentiment %>%\n",
        "  dplyr::filter(emojiname %in% country_list) %>%\n",
        "  dplyr::group_by(emojiname) %>%\n",
        "  dplyr::summarise(label = sum(count))\n",
        "\n",
        "ggplot2::ggplot(tweets_en_emoji_sentiment %>%\n",
        "                  filter(emojiname %in% country_list),\n",
        "                mapping = ggplot2::aes(x = emojiname, y = n_normalized)) +\n",
        "  ggplot2::geom_col(aes(fill = as.factor(value)), position=position_dodge(.6), width=.6) +\n",
        "  ggplot2::geom_label(aes(label = label, y = -2.5), data = label_df) +  \n",
        "  ggplot2::scale_fill_manual(name = \"Sentiment\",\n",
        "                             values = c(\"-5\" = \"#8B0000\",\n",
        "                               \"-4\" = \"#FF0000\",\n",
        "                               \"-3\" = \"#FFA500\",\n",
        "                               \"-2\" = \"#FFFF00\",\n",
        "                               \"-1\" = \"#fafad4\",\n",
        "                               \"0\" = \"#B0B0B0\",\n",
        "                               \"1\" = \"#b6fcc3\",\n",
        "                               \"2\" = \"#90EE90\",\n",
        "                               \"3\" = \"#00FF00\",\n",
        "                               \"4\" = \"#228B22\",\n",
        "                               \"5\" = \"#006400\")) +\n",
        "  ggplot2::labs(x = \"Country\",\n",
        "                y = \"Proportion in %\") +\n",
        "  ggplot2::theme(axis.text.x = element_text(angle = 20, vjust = 0.7, face=\"bold\"))"
      ],
      "metadata": {
        "id": "6ysSOsGk3f-E"
      },
      "execution_count": null,
      "outputs": []
    },
    {
      "cell_type": "code",
      "source": [
        "tweets_en_emoji_sentiment_before <- tweets_en_emoji %>%\n",
        "  dplyr::filter(emojiname %in% country_list) %>%\n",
        "  dplyr::mutate(before_war = created_at < as.Date(\"2022-02-24\")) %>% # (4)\n",
        "  dplyr::select(before_war, emojiname, text) %>%\n",
        "  tidytext::unnest_tokens(output = \"word\", input = text) %>%\n",
        "  dplyr::right_join(y = afinn_dict, by = \"word\") %>%\n",
        "  dplyr::count(before_war, emojiname, value, name = \"count\") %>%\n",
        "  dplyr::group_by(emojiname, before_war) %>%\n",
        "  dplyr::mutate(n_normalized = count/sum(count) * 100)"
      ],
      "metadata": {
        "id": "w97wwIqV3iHM"
      },
      "execution_count": null,
      "outputs": []
    },
    {
      "cell_type": "code",
      "source": [
        "# Vor Kriegsbeginn\n",
        "label_df <- tweets_en_emoji_sentiment_before %>%\n",
        "  dplyr::filter(before_war) %>%\n",
        "  dplyr::group_by(emojiname) %>%\n",
        "  dplyr::summarise(label = sum(count))\n",
        "\n",
        "ggplot2::ggplot(tweets_en_emoji_sentiment_before %>%\n",
        "                  dplyr::filter(before_war),\n",
        "                mapping = ggplot2::aes(x = emojiname, y = n_normalized)) +\n",
        "  ggplot2::geom_col(ggplot2::aes(fill = as.factor(value)), position=ggplot2::position_dodge(.6), width=.6) +\n",
        "  ggplot2::geom_label(ggplot2::aes(label = label, y = -2.5), data = label_df) +\n",
        "  ggplot2::scale_fill_manual(name = \"Sentiment\",\n",
        "                             values = c(\"-5\" = \"#8B0000\", # Farbverlauf (HEX Codes) generiert mit ChatGPT\n",
        "                               \"-4\" = \"#FF0000\",\n",
        "                               \"-3\" = \"#FFA500\",\n",
        "                               \"-2\" = \"#FFFF00\",\n",
        "                               \"-1\" = \"#fafad4\",\n",
        "                               \"0\" = \"#B0B0B0\",\n",
        "                               \"1\" = \"#b6fcc3\",\n",
        "                               \"2\" = \"#90EE90\",\n",
        "                               \"3\" = \"#00FF00\",\n",
        "                               \"4\" = \"#228B22\",\n",
        "                               \"5\" = \"#006400\")) +\n",
        "  ggplot2::labs(x = \"Country\",\n",
        "                y = \"Proportion\") +\n",
        "  ggplot2::theme(axis.text.x = element_text(angle = 20, vjust = 0.7, face=\"bold\"))"
      ],
      "metadata": {
        "id": "M1U2rIka3iNv"
      },
      "execution_count": null,
      "outputs": []
    },
    {
      "cell_type": "code",
      "source": [
        "# Nach Kriegsbeginn\n",
        "label_df <- tweets_en_emoji_sentiment_before %>%\n",
        "  dplyr::filter(!before_war) %>%\n",
        "  dplyr::group_by(emojiname) %>%\n",
        "  summarise(label = sum(count))\n",
        "\n",
        "ggplot2::ggplot(tweets_en_emoji_sentiment_before %>%\n",
        "                  dplyr::filter(!before_war),\n",
        "                mapping = ggplot2::aes(x = emojiname, y = n_normalized)) +\n",
        "  ggplot2::geom_col(ggplot2::aes(fill = as.factor(value)), position=ggplot2::position_dodge(.6), width=.6) +\n",
        "  ggplot2::geom_label(ggplot2::aes(label = label, y = -2.5), data = label_df) +\n",
        "  ggplot2::scale_fill_manual(name = \"Sentiment\",\n",
        "                             values = c(\"-5\" = \"#8B0000\",\n",
        "                               \"-4\" = \"#FF0000\",\n",
        "                               \"-3\" = \"#FFA500\",\n",
        "                               \"-2\" = \"#FFFF00\",\n",
        "                               \"-1\" = \"#fafad4\",\n",
        "                               \"0\" = \"#B0B0B0\",\n",
        "                               \"1\" = \"#b6fcc3\",\n",
        "                               \"2\" = \"#90EE90\",\n",
        "                               \"3\" = \"#00FF00\",\n",
        "                               \"4\" = \"#228B22\",\n",
        "                               \"5\" = \"#006400\"),\n",
        "                             drop = FALSE) +\n",
        "  ggplot2::labs(x = \"Country\",\n",
        "                y = \"Proportion\") +\n",
        "  ggplot2::theme(axis.text.x = element_text(angle = 20, vjust = 0.7, face=\"bold\"))"
      ],
      "metadata": {
        "id": "n_w5Yoto3mCm"
      },
      "execution_count": null,
      "outputs": []
    },
    {
      "cell_type": "markdown",
      "source": [
        "### Alternative Way to Present the Data"
      ],
      "metadata": {
        "id": "1VqNPGJd3omm"
      }
    },
    {
      "cell_type": "code",
      "source": [
        "ggplot2::ggplot(data = tweets_en_emoji_sentiment_before %>%\n",
        "                  dplyr::filter(before_war) %>%\n",
        "                  dplyr::group_by(emojiname) %>%\n",
        "                  dplyr::mutate(mean = sum(value) / dplyr::n()) %>%\n",
        "                  dplyr::arrange(desc(mean), .by_group = TRUE),\n",
        "                mapping = ggplot2::aes(x = forcats::fct_reorder(as.factor(emojiname), mean),\n",
        "                                       y = n_normalized)) +\n",
        "  ggplot2::geom_col(aes(fill = as.factor(value))) +\n",
        "  ggplot2::scale_fill_manual(name = \"Sentiment\",\n",
        "                           values = c(\"-5\" = \"#8B0000\",\n",
        "                             \"-4\" = \"#FF0000\",\n",
        "                             \"-3\" = \"#FFA500\",\n",
        "                             \"-2\" = \"#FFFF00\",\n",
        "                             \"-1\" = \"#fafad4\",\n",
        "                             \"0\" = \"#B0B0B0\",\n",
        "                             \"1\" = \"#b6fcc3\",\n",
        "                             \"2\" = \"#90EE90\",\n",
        "                             \"3\" = \"#00FF00\",\n",
        "                             \"4\" = \"#228B22\",\n",
        "                             \"5\" = \"#006400\"),\n",
        "                           drop = FALSE) +\n",
        "  ggplot2::coord_flip() +\n",
        "  ggplot2::labs(y = \"Sentiment Proportions\",\n",
        "                x = \"Country\") +\n",
        "  ggplot2::theme_bw()"
      ],
      "metadata": {
        "id": "TMHD6N6f3sxk"
      },
      "execution_count": null,
      "outputs": []
    },
    {
      "cell_type": "markdown",
      "source": [
        "What else? How could we proceed?\n",
        "\n",
        "We could:\n",
        "1. Also check the text for country names\n",
        "2. Look for synonyms for the mentions of Russia\n",
        "3. Apply more sophisticated models for sentiment extraction\n",
        "\n",
        "What are your ideas?"
      ],
      "metadata": {
        "id": "rH53pLE_3vMw"
      }
    },
    {
      "cell_type": "markdown",
      "source": [
        "## Resources to learn R\n",
        "\n",
        "There are many learning offerings freely available on the web. Below you find some recommendations:"
      ],
      "metadata": {
        "id": "SjAgWdMF7kzi"
      }
    },
    {
      "cell_type": "markdown",
      "source": [
        "\n",
        "\n",
        "* DataQuest interactive tutorials: [Introduction to Data Analysis in R](https://www.dataquest.io/course/intro-to-r-rewrite/)\n",
        "* [R for Data Science](https://r4ds.hadley.nz/) by Hadley Wickham and Garrett Grolemund (2022)\n",
        "* [How to learn R?](https://ozlemtuncel.github.io/files/Learning_R.pdf) by Ozlem Tuncel (2022)\n"
      ],
      "metadata": {
        "id": "R6BkbmNA70gP"
      }
    }
  ]
}